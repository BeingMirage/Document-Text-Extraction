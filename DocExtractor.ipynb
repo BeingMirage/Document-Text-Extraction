{
 "cells": [
  {
   "cell_type": "code",
   "execution_count": 13,
   "id": "b0deff99-6002-4260-8360-d82feba66594",
   "metadata": {
    "scrolled": true
   },
   "outputs": [
    {
     "name": "stdin",
     "output_type": "stream",
     "text": [
      "Enter path:  C:/Users/ameyg/Downloads/SPOS_Exp3.pdf\n"
     ]
    },
    {
     "name": "stdout",
     "output_type": "stream",
     "text": [
      "Data saved to output.json\n"
     ]
    }
   ],
   "source": [
    "import pdfplumber\n",
    "import json\n",
    "import os\n",
    "from pdfminer.high_level import extract_text\n",
    "\n",
    "def extract_text_from_pdf(pdf_path): \n",
    "    #Extract text using pdfminer.six\n",
    "    return extract_text(pdf_path).strip()\n",
    "\n",
    "def extract_tables(pdf_path): \n",
    "    #Extract table using pdfplumber\n",
    "    tables = []\n",
    "    with pdfplumber.open(pdf_path) as pdf:\n",
    "        for page in pdf.pages:\n",
    "            extracted_tables = page.extract_table()\n",
    "            if extracted_tables:\n",
    "                tables.append(extracted_tables)\n",
    "    return tables\n",
    "\n",
    "def save_as_json(pdf_path, output_json):\n",
    "    extracted_text = extract_text_from_pdf(pdf_path)\n",
    "    extracted_tables = extract_tables(pdf_path)\n",
    "    \n",
    "    data = {\n",
    "        \"Headers\": extracted_text,\n",
    "        \"List_items\": extracted_tables\n",
    "    }\n",
    "    \n",
    "    with open(output_json, \"w\", encoding=\"utf-8\") as json_file:\n",
    "        json.dump(data, json_file, indent=4, ensure_ascii=False)\n",
    "    print(f\"Data saved to {output_json}\")\n",
    "\n",
    "pdf_path = input(\"Enter path: \")\n",
    "output_json = \"output.json\"\n",
    "\n",
    "if os.path.exists(pdf_path):\n",
    "    save_as_json(pdf_path, output_json)\n",
    "else:\n",
    "    print(\"Invalid file path. Please check and try again.\")"
   ]
  },
  {
   "cell_type": "markdown",
   "id": "18b28e31-c741-4d74-ad08-29e0758e3189",
   "metadata": {},
   "source": [
    "\"C:\\Users\\ameyg\\Downloads\\RAI AI Engineer Intern Assignments.pdf\""
   ]
  },
  {
   "cell_type": "code",
   "execution_count": null,
   "id": "fa3cb77f-0af7-4dbc-8023-01469b0f2d2c",
   "metadata": {},
   "outputs": [],
   "source": []
  },
  {
   "cell_type": "code",
   "execution_count": null,
   "id": "9dfae5ca-e208-4fcd-9773-4d892d9be2e8",
   "metadata": {},
   "outputs": [],
   "source": []
  },
  {
   "cell_type": "code",
   "execution_count": null,
   "id": "ac983ae6-4fa8-4255-9fca-6ecc996ed788",
   "metadata": {},
   "outputs": [],
   "source": []
  }
 ],
 "metadata": {
  "kernelspec": {
   "display_name": "cuda-gpt",
   "language": "python",
   "name": "cuda"
  },
  "language_info": {
   "codemirror_mode": {
    "name": "ipython",
    "version": 3
   },
   "file_extension": ".py",
   "mimetype": "text/x-python",
   "name": "python",
   "nbconvert_exporter": "python",
   "pygments_lexer": "ipython3",
   "version": "3.12.7"
  }
 },
 "nbformat": 4,
 "nbformat_minor": 5
}
